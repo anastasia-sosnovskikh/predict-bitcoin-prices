{
 "cells": [
  {
   "cell_type": "markdown",
   "metadata": {},
   "source": [
    "# 1. Scraping the complete Bitcoin Data from 2009\n",
    "\n",
    "BItcoin Data Source: https://bitcoin.zorinaq.com/price/"
   ]
  },
  {
   "cell_type": "code",
   "execution_count": 7,
   "metadata": {},
   "outputs": [],
   "source": [
    "# Load the packages\n",
    "from parse import compile\n",
    "import pandas as pd\n",
    "import csv"
   ]
  },
  {
   "cell_type": "code",
   "execution_count": 8,
   "metadata": {},
   "outputs": [],
   "source": [
    "# Read and parse the data.\n",
    "pattern = compile('[new Date(\"{}\"), {:f}],')\n",
    "\n",
    "data = []\n",
    "with open('data/data.txt') as f:\n",
    "    for line in f.readlines():\n",
    "        result = pattern.parse(line.strip())\n",
    "        data.append(\n",
    "            list(result) # appending parsed data\n",
    "        )"
   ]
  },
  {
   "cell_type": "code",
   "execution_count": 9,
   "metadata": {},
   "outputs": [],
   "source": [
    "# Write the data out in a file\n",
    "with open('data/bitcoin.csv', 'w', newline='') as f:\n",
    "    csvwriter = csv.writer(f)\n",
    "    \n",
    "    # headers\n",
    "    csvwriter.writerow(['date', 'close'])\n",
    "    \n",
    "    # write out by each line\n",
    "    for entry in data:\n",
    "        csvwriter.writerow(entry)"
   ]
  },
  {
   "cell_type": "code",
   "execution_count": 10,
   "metadata": {},
   "outputs": [
    {
     "name": "stdout",
     "output_type": "stream",
     "text": [
      "<class 'pandas.core.frame.DataFrame'>\n",
      "RangeIndex: 4216 entries, 0 to 4215\n",
      "Data columns (total 2 columns):\n",
      " #   Column  Non-Null Count  Dtype  \n",
      "---  ------  --------------  -----  \n",
      " 0   date    4216 non-null   object \n",
      " 1   close   4216 non-null   float64\n",
      "dtypes: float64(1), object(1)\n",
      "memory usage: 66.0+ KB\n"
     ]
    }
   ],
   "source": [
    "# Check the result\n",
    "df_bitcoin = pd.read_csv('data/bitcoin.csv') \n",
    "df_bitcoin.info()"
   ]
  },
  {
   "cell_type": "code",
   "execution_count": 11,
   "metadata": {},
   "outputs": [
    {
     "data": {
      "text/plain": [
       "date     0\n",
       "close    0\n",
       "dtype: int64"
      ]
     },
     "execution_count": 11,
     "metadata": {},
     "output_type": "execute_result"
    }
   ],
   "source": [
    "# Check missings\n",
    "df_bitcoin.isna().sum()"
   ]
  },
  {
   "cell_type": "markdown",
   "metadata": {},
   "source": [
    "# 2. Exogenous variables"
   ]
  },
  {
   "cell_type": "code",
   "execution_count": 12,
   "metadata": {},
   "outputs": [],
   "source": [
    "# Read the data in\n",
    "df_gold = pd.read_csv('data/gold.csv') # Gold\n",
    "df_oil = pd.read_csv('data/crude_oil.csv') # Crude Oil\n",
    "df_spx = pd.read_csv('data/spx.csv') # S&P 500\n",
    "df_vfh = pd.read_csv('data/vfh.csv') # Vanguard Financials Index Fund ETF\n",
    "df_vgt = pd.read_csv('data/vgt.csv') # Vanguard Information Technology Index Fund ETF\n",
    "df_nvda = pd.read_csv('data/nvda.csv') # NVIDIA"
   ]
  },
  {
   "cell_type": "code",
   "execution_count": 13,
   "metadata": {},
   "outputs": [],
   "source": [
    "# Column names: remove white spaces, convert to lower case, add _ instead of space\n",
    "df_gold.columns = df_gold.columns.str.strip().str.lower().str.replace(' ','_')\n",
    "df_oil.columns = df_oil.columns.str.strip().str.lower().str.replace(' ','_')\n",
    "df_spx.columns = df_spx.columns.str.strip().str.lower().str.replace(' ','_')\n",
    "df_vfh.columns = df_vfh.columns.str.strip().str.lower().str.replace(' ','_')\n",
    "df_vgt.columns = df_vgt.columns.str.strip().str.lower().str.replace(' ','_')\n",
    "df_nvda.columns = df_nvda.columns.str.strip().str.lower().str.replace(' ','_')"
   ]
  },
  {
   "cell_type": "code",
   "execution_count": 14,
   "metadata": {},
   "outputs": [],
   "source": [
    "# Change date to date_time\n",
    "df_gold['date'] = pd.to_datetime(df_gold['date'])\n",
    "df_oil['date'] = pd.to_datetime(df_oil['date'])\n",
    "df_spx['date'] = pd.to_datetime(df_spx['date'])\n",
    "df_vfh['date'] = pd.to_datetime(df_vfh['date'])\n",
    "df_vgt['date'] = pd.to_datetime(df_vgt['date'])\n",
    "df_nvda['date'] = pd.to_datetime(df_nvda['date'])"
   ]
  },
  {
   "cell_type": "code",
   "execution_count": 15,
   "metadata": {},
   "outputs": [],
   "source": [
    "# Change date to Index\n",
    "df_gold = df_gold.set_index('date')\n",
    "df_oil = df_oil.set_index('date')\n",
    "df_spx = df_spx.set_index('date')\n",
    "df_vfh = df_vfh.set_index('date')\n",
    "df_vgt = df_vgt.set_index('date')\n",
    "df_nvda = df_nvda.set_index('date')"
   ]
  },
  {
   "cell_type": "code",
   "execution_count": 16,
   "metadata": {},
   "outputs": [],
   "source": [
    "# Subset the data frames\n",
    "df_gold = df_gold.loc['2009-11-01':'2021-03-31']\n",
    "df_oil = df_oil.loc['2009-11-01':'2021-03-31']\n",
    "df_spx = df_spx.loc['2009-11-01':'2021-03-31']\n",
    "df_vfh = df_vfh.loc['2009-11-01':'2021-03-31']\n",
    "df_vgt = df_vgt.loc['2009-11-01':'2021-03-31']\n",
    "df_nvda = df_nvda.loc['2009-11-01':'2021-03-31']"
   ]
  },
  {
   "cell_type": "code",
   "execution_count": 17,
   "metadata": {},
   "outputs": [],
   "source": [
    "# Create a big df\n",
    "df_exo = pd.DataFrame(df_gold, columns={'close'})\n",
    "df_exo.rename(columns = {'close' : 'gold'}, inplace = True)\n",
    "\n",
    "df_exo['oil'] = df_oil['close']\n",
    "df_exo['spx'] = df_spx['close']\n",
    "df_exo['vfh'] = df_vfh['close']\n",
    "df_exo['vgt'] = df_vgt['close']\n",
    "df_exo['nvda'] = df_nvda['close']"
   ]
  },
  {
   "cell_type": "code",
   "execution_count": 18,
   "metadata": {},
   "outputs": [
    {
     "name": "stdout",
     "output_type": "stream",
     "text": [
      "<class 'pandas.core.frame.DataFrame'>\n",
      "DatetimeIndex: 2873 entries, 2009-11-02 to 2021-03-31\n",
      "Data columns (total 6 columns):\n",
      " #   Column  Non-Null Count  Dtype  \n",
      "---  ------  --------------  -----  \n",
      " 0   gold    2846 non-null   float64\n",
      " 1   oil     2847 non-null   float64\n",
      " 2   spx     2870 non-null   float64\n",
      " 3   vfh     2870 non-null   float64\n",
      " 4   vgt     2870 non-null   float64\n",
      " 5   nvda    2870 non-null   float64\n",
      "dtypes: float64(6)\n",
      "memory usage: 157.1 KB\n"
     ]
    }
   ],
   "source": [
    "# Show data\n",
    "df_exo.info()"
   ]
  },
  {
   "cell_type": "code",
   "execution_count": 19,
   "metadata": {},
   "outputs": [
    {
     "data": {
      "text/plain": [
       "gold    0\n",
       "oil     0\n",
       "spx     0\n",
       "vfh     0\n",
       "vgt     0\n",
       "nvda    0\n",
       "dtype: int64"
      ]
     },
     "execution_count": 19,
     "metadata": {},
     "output_type": "execute_result"
    }
   ],
   "source": [
    "# Deal with missings\n",
    "df_exo.isna().sum()\n",
    "df_exo = df_exo.dropna()\n",
    "df_exo.isna().sum()"
   ]
  },
  {
   "cell_type": "code",
   "execution_count": 20,
   "metadata": {},
   "outputs": [],
   "source": [
    "# Write out to a file\n",
    "df_exo.to_csv('data/exogenous.csv')"
   ]
  }
 ],
 "metadata": {
  "kernelspec": {
   "display_name": "Python 3",
   "language": "python",
   "name": "python3"
  },
  "language_info": {
   "codemirror_mode": {
    "name": "ipython",
    "version": 3
   },
   "file_extension": ".py",
   "mimetype": "text/x-python",
   "name": "python",
   "nbconvert_exporter": "python",
   "pygments_lexer": "ipython3",
   "version": "3.8.5"
  }
 },
 "nbformat": 4,
 "nbformat_minor": 5
}
